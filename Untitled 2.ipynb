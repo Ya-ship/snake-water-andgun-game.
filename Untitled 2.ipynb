{
 "cells": [
  {
   "cell_type": "code",
   "execution_count": 1,
   "id": "df0fd5b8-11f1-424f-9ba4-032a7f06cffc",
   "metadata": {},
   "outputs": [],
   "source": [
    "#Snake Water Game."
   ]
  },
  {
   "cell_type": "code",
   "execution_count": 2,
   "id": "6f118b4e-bc10-49de-9a83-ac00a044564a",
   "metadata": {},
   "outputs": [
    {
     "name": "stdout",
     "output_type": "stream",
     "text": [
      "You chose gun\n",
      "Computer chose snake\n",
      "You win.\n"
     ]
    }
   ],
   "source": [
    "import random\n",
    "\n",
    "'''\n",
    "1 for snake\n",
    "-1 for water\n",
    "0 for gun\n",
    "'''\n",
    "\n",
    "computer = random.choice([-1, 0, 1])\n",
    "youstr = input(\"Enter your choice (s for snake, w for water, g for gun): \")\n",
    "youdict = {\"s\": 1, \"w\": -1, \"g\": 0}\n",
    "reversedict = {1: \"snake\", -1: \"water\", 0: \"gun\"}  \n",
    "\n",
    "you = youdict[youstr]\n",
    "\n",
    "print(f\"You chose {reversedict[you]}\\nComputer chose {reversedict[computer]}\")\n",
    "\n",
    "if computer == you:\n",
    "    print(\"It's a draw.\")\n",
    "else:\n",
    "    if computer == -1 and you == 1:\n",
    "        print(\"You win.\")\n",
    "    elif computer == -1 and you == 0:\n",
    "        print(\"You lose.\")\n",
    "    elif computer == 1 and you == -1:\n",
    "        print(\"You lose.\")\n",
    "    elif computer == 1 and you == 0:\n",
    "        print(\"You win.\")\n",
    "    elif computer == 0 and you == -1:\n",
    "        print(\"You win.\")\n",
    "    elif computer == 0 and you == 1:\n",
    "        print(\"You lose.\")\n",
    "    else:\n",
    "        print(\"Something went wrong.\")\n",
    "\n",
    "\n",
    "\n"
   ]
  },
  {
   "cell_type": "code",
   "execution_count": null,
   "id": "1d5feaff",
   "metadata": {},
   "outputs": [],
   "source": []
  },
  {
   "cell_type": "markdown",
   "id": "9bf8ccfd",
   "metadata": {},
   "source": []
  },
  {
   "cell_type": "code",
   "execution_count": null,
   "id": "738476b5",
   "metadata": {},
   "outputs": [],
   "source": []
  },
  {
   "cell_type": "code",
   "execution_count": null,
   "id": "7e6b1997-9ee0-4f45-ad90-c34063d02dd1",
   "metadata": {},
   "outputs": [],
   "source": []
  }
 ],
 "metadata": {
  "kernelspec": {
   "display_name": "Python 3",
   "language": "python",
   "name": "python3"
  },
  "language_info": {
   "codemirror_mode": {
    "name": "ipython",
    "version": 3
   },
   "file_extension": ".py",
   "mimetype": "text/x-python",
   "name": "python",
   "nbconvert_exporter": "python",
   "pygments_lexer": "ipython3",
   "version": "3.13.0"
  }
 },
 "nbformat": 4,
 "nbformat_minor": 5
}
